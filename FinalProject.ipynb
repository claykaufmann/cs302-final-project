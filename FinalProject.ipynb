{
 "cells": [
  {
   "cell_type": "markdown",
   "metadata": {
    "colab_type": "text",
    "id": "view-in-github"
   },
   "source": [
    "<a href=\"https://colab.research.google.com/github/claykaufmann/cs302-final-project/blob/main/FinalProject.ipynb\" target=\"_parent\"><img src=\"https://colab.research.google.com/assets/colab-badge.svg\" alt=\"Open In Colab\"/></a>\n"
   ]
  },
  {
   "cell_type": "markdown",
   "metadata": {
    "id": "luoeHyc_VPYc"
   },
   "source": [
    "# CS 302 Final Project\n",
    "\n",
    "Yousef Khan, Jaden Varin, Clay Kaufmann\n",
    "\n",
    "For our final project, we decided to model the path of a photon in the sun, based on different models of what the inside of the sun may be. To do this, we built an event-driven model, where instead of iterating over time, we iterate over the interactions a photon has with hydrogen atoms. So, every step of a loop is the next interaction. The basic idea is that at each step, you calculate the estimated distance until the photon has another interaction, and randomly select a direction to take. Then in the next iteration of the loop, you do this again.\n"
   ]
  },
  {
   "cell_type": "code",
   "execution_count": null,
   "metadata": {
    "id": "F7oHH3omhwYi"
   },
   "outputs": [],
   "source": [
    "# Imports\n",
    "import numpy as np\n",
    "import pandas as pd\n",
    "import matplotlib.pyplot as plt\n",
    "import plotly.graph_objects as go\n",
    "from plotly_resampler import FigureResampler\n",
    "import plotly.io as pio\n",
    "pio.renderers\n",
    "pio.renderers.default = \"notebook_connected\"\n",
    "from mpl_toolkits import mplot3d\n",
    "import os\n",
    "from IPython.display import clear_output\n",
    "import csv\n",
    "\n",
    "\n",
    "np.random.seed()"
   ]
  },
  {
   "cell_type": "markdown",
   "metadata": {
    "id": "17Ywy8mBVPYe"
   },
   "source": [
    "## Photon Class\n",
    "\n",
    "The photon class represents a single photon.\n"
   ]
  },
  {
   "cell_type": "code",
   "execution_count": null,
   "metadata": {
    "id": "l7CNd0LlVPYe"
   },
   "outputs": [],
   "source": [
    "class Photon:\n",
    "    \"\"\"\n",
    "    a single photon in space\n",
    "    \"\"\"\n",
    "\n",
    "    def __init__(self) -> None:\n",
    "        \"\"\"\n",
    "        The constructor simply initializes the history list, to keep track of where the photon has been.\n",
    "        \"\"\"\n",
    "        self.history = [[0, 0, 0]]\n",
    "\n",
    "    def next_distance(self, function):\n",
    "        \"\"\"\n",
    "        calculate the next distance for the photon to travel before an interaction\n",
    "\n",
    "        Parameters\n",
    "        ----------\n",
    "        self: the photon class\n",
    "        function: the modeling function that calculates the distance\n",
    "        \"\"\"\n",
    "        res = function()\n",
    "\n",
    "        return res\n",
    "\n",
    "    def next_loc(self, distance):\n",
    "        \"\"\"\n",
    "        get the next photon location\n",
    "\n",
    "        Parameters\n",
    "        ----------\n",
    "        self: self\n",
    "        distance: float, representing the radius of the sphere for possible next location\n",
    "        \"\"\"\n",
    "        z = np.random.uniform(distance * -1, distance)\n",
    "        \n",
    "        # phi is the angle, which is the \"longitude\"\n",
    "        phi = np.random.uniform(0, 2 * np.pi)\n",
    "\n",
    "        # calculate the theta\n",
    "        theta = np.random.uniform(0, 2 * np.pi)\n",
    "\n",
    "        # gen points\n",
    "        x = distance * np.sin(phi) * np.cos(theta);\n",
    "        y = distance * np.sin(phi) * np.sin(theta);\n",
    "        \n",
    "        # update tracking location\n",
    "        # take previous iteration, append values\n",
    "        final_x = self.history[-1][0] + x\n",
    "        final_y = self.history[-1][1] + y\n",
    "        final_z = self.history[-1][2] + z\n",
    "\n",
    "        # append this new location to the photon's history\n",
    "        self.history.append([final_x, final_y, final_z])\n"
   ]
  },
  {
   "cell_type": "markdown",
   "metadata": {
    "id": "yYeVGAPWlZSi"
   },
   "source": [
    "## Equations and Constants\n",
    "\n",
    "In this cell, we establish core constants and equations we will use for our modeling functions.\n"
   ]
  },
  {
   "cell_type": "code",
   "execution_count": null,
   "metadata": {
    "id": "woeljKvCVPYf"
   },
   "outputs": [],
   "source": [
    "# Numbers assume hydrogen atoms\n",
    "# sources:\n",
    "# https://observatory.astro.utah.edu/sun.html\n",
    "# http://solar-center.stanford.edu/vitalstats.html\n",
    "# https://physicsanduniverse.com/random-walk-photon/\n",
    "# https://www.compadre.org/osp/items/detail.cfm?ID=11349\n",
    "\n",
    "\n",
    "def kgm3_to_cmg3(val):\n",
    "    \"\"\"\n",
    "    convert data from kg/m^3 to cm/g^3\n",
    "    \"\"\"\n",
    "    return val / 1000\n",
    "\n",
    "def mfp(density, opacity):\n",
    "    \"\"\"\n",
    "    calculate mean free path with given hydrogen density and opacity\n",
    "\n",
    "    Parameters\n",
    "    ----------\n",
    "    density: a given hydrogen density in the sun\n",
    "    opacity: the opacity of the sun\n",
    "    \"\"\"\n",
    "\n",
    "    return 1.0 / (density * opacity)\n",
    "\n",
    "def calc_escape_time(R, l):\n",
    "    \"\"\"\n",
    "    calculate the time it takes for a photion to reach sun's surface in seconds\n",
    "    \"\"\"\n",
    "    # time it takes for photon to reach sun's surface in seconds\n",
    "    return np.square(R) / (mfp * C)\n",
    "\n",
    "def seconds_to_years(secs):\n",
    "    \"\"\"\n",
    "    convert seconds to years\n",
    "    \"\"\"\n",
    "    return int(secs/31_556_952)\n",
    "\n",
    "def distance(coordinates):\n",
    "    \"\"\"\n",
    "    calculate the distance in 3D space from the origin\n",
    "\n",
    "    Parameters\n",
    "    ----------\n",
    "    coordinates: list, np.ndarray, tuple\n",
    "        a list of coordinates\n",
    "    \"\"\"\n",
    "    x, y, z = coordinates\n",
    "    return np.sqrt(x**2 + y**2 + z**2)\n",
    "\n",
    "\n",
    "def run_eq(x):\n",
    "    \"\"\"\n",
    "    helper function for get_density, calculates density at distance from center in percentage of total distance\n",
    "    \"\"\"\n",
    "    g_cm3 = 519.0*(x**4) - 1630.0*(x**3) + 1844.0*(x**2) - 889.0*x + 155.0\n",
    "    return g_cm3 * SCALE * 1000 # convert from g/cm3 to kg/m3\n",
    "\n",
    "def get_density(bins=0):\n",
    "    \"\"\"\n",
    "    calculate the density of sun\n",
    "\n",
    "    SOURCE: https://spacemath.gsfc.nasa.gov/Calculus/6Page102.pdf\n",
    "    \"\"\"\n",
    "    if bins == 0:\n",
    "        bins = R\n",
    "    return [run_eq(i / bins) for i in range(int(bins))]\n",
    "\n",
    "\n",
    "def print_dist(n, dist):\n",
    "    clear_output(wait=True)\n",
    "    print(f'N: {n}')\n",
    "    bins = R / 50\n",
    "    s = \"=\" * int(dist / bins)\n",
    "    space = \" \" * int(50 - (dist/bins))\n",
    "    print(\"Start:\", \"|\" + s + \">\", space + \"|\", \"Finish\")\n",
    "    \n",
    "\n",
    "### CONSTANTS ###\n",
    "# DENSITY VALUES TO BE USED IN TESTING\n",
    "C = 3.0e8 # speed of light m/s\n",
    "opacity = 3.0 # opacity m^2/kg\n",
    "R = 7.0e8 # sun's radius in meters\n",
    "# SCALE = 1/1_000_000_000 # scale the sun so that the simulation actually runs\n",
    "SCALE = 1/15_000_000_000 # scale the density\n",
    "\n",
    "PLOTTING = False\n",
    "\n",
    "average_density_results = {}\n",
    "decreasing_density_results = {}\n",
    "discrete_density_results = {}\n"
   ]
  },
  {
   "cell_type": "markdown",
   "metadata": {
    "id": "RDmtl6YYVPYf"
   },
   "source": [
    "## Plotting Functions\n",
    "\n",
    "The following functions create the visualization.\n"
   ]
  },
  {
   "cell_type": "code",
   "execution_count": null,
   "metadata": {
    "id": "aq9orztt20C0"
   },
   "outputs": [],
   "source": [
    "def create_sun(size, clr, dist=0, opacity=1):\n",
    "    \"\"\"\n",
    "    create a yellow sphere, with a given size and opacity\n",
    "    \"\"\"\n",
    "    # Set up 100 points. First, do angles\n",
    "    theta = np.linspace(0,2*np.pi,100)\n",
    "    phi = np.linspace(0,np.pi,100)\n",
    "    \n",
    "    # Set up coordinates for points on the sphere\n",
    "    x0 = dist + size * np.outer(np.cos(theta),np.sin(phi))\n",
    "    y0 = size * np.outer(np.sin(theta),np.sin(phi))\n",
    "    z0 = size * np.outer(np.ones(100),np.cos(phi))\n",
    "    \n",
    "    # Set up trace\n",
    "    trace = go.Surface(x=x0, y=y0, z=z0, colorscale=[[0,clr], [1,clr]], opacity=opacity)\n",
    "    trace.update(showscale=False)\n",
    "\n",
    "    return trace\n",
    "\n",
    "def create_photon(x, y, z, clr='white', wdth=2):\n",
    "    \"\"\"\n",
    "    create a photon track using a 3d scatter plot\n",
    "\n",
    "    Parameters\n",
    "    ----------\n",
    "    x: np.ndarray\n",
    "        an array of points to plot in the x dim\n",
    "    y: np.ndarray\n",
    "        an array of points to plot in the y dim\n",
    "    z: np.ndarray\n",
    "        an array of points to plot in the z dim\n",
    "    \"\"\"\n",
    "    # build trace\n",
    "    trace = go.Scatter3d(x=x, y=y, z=z, line=dict(color=clr, width=wdth), marker=dict(size=0.1))\n",
    "\n",
    "    return trace\n",
    "\n",
    "def plot_photon_and_sun(photon: Photon, cut_down_size=None, mode=None, plot_sun=True, sun_size=R * SCALE):\n",
    "    \"\"\"\n",
    "    This function plots the photon and sun with Plotly Express\n",
    "\n",
    "    Parameters\n",
    "    ----------\n",
    "    photon: Photon\n",
    "        a photon class object\n",
    "    cut_down_size: tuple(int, int)\n",
    "        the amount of datapoints to plot to, i.e 1000 plots to the 1000th datapoint\n",
    "    \"\"\"\n",
    "    photon_track = np.array(photon.history)\n",
    "\n",
    "    if cut_down_size:\n",
    "        photon_track = photon_track[cut_down_size[0]:cut_down_size[1]]\n",
    "\n",
    "    layout = go.Layout(\n",
    "        autosize=False,\n",
    "        width=700,\n",
    "        height=700,\n",
    "        margin=go.layout.Margin(\n",
    "            l=50,\n",
    "            r=50,\n",
    "            b=100,\n",
    "            t=100,\n",
    "            pad = 4\n",
    "        )\n",
    "    )\n",
    "\n",
    "    # create figure resampler, for more efficient plotting\n",
    "    fig = FigureResampler(go.Figure(layout=layout))\n",
    "\n",
    "    # create the sun\n",
    "    if plot_sun:\n",
    "        sun = create_sun(sun_size, '#ffff00', 0, 0.2) # Sun\n",
    "        fig.add_trace(sun)\n",
    "\n",
    "    # create the photon\n",
    "    photon_trace = create_photon(photon_track[:,0], photon_track[:,1], photon_track[:,2], clr='red')\n",
    "\n",
    "    # add traces to the figure\n",
    "    fig.add_trace(photon_trace)\n",
    "\n",
    "    # show the plot\n",
    "    fig.show_dash(mode=mode)\n",
    "\n",
    "def pyplot_photon_path(photon: Photon):\n",
    "    \"\"\"\n",
    "    Plot the photon path in matplotlib\n",
    "    Not an interactible chart, but is static and is easier to show large datasets.\n",
    "\n",
    "    Parameters\n",
    "    ----------\n",
    "    photon: Photon\n",
    "        a photon object\n",
    "    \"\"\"\n",
    "\n",
    "    photon_track = np.array(photon.history)\n",
    "    fig = plt.figure()\n",
    "    ax = plt.axes(projection='3d')\n",
    "    ax = plt.axes(projection='3d')\n",
    "    ax.scatter3D(photon_track[:,0], photon_track[:,1], photon_track[:,2])\n",
    "\n",
    "    plt.show()"
   ]
  },
  {
   "cell_type": "markdown",
   "metadata": {
    "id": "pp-EZBc2paf4"
   },
   "source": [
    "## The Models\n",
    "\n",
    "We now implement and build our different models.\n",
    "\n",
    "### Model 1: Average Density\n",
    "\n",
    "The average density model assumes that the inside of the sun has one single density. We base all the photon interactions off of this single value.\n",
    "\n",
    "#### Pseudocode\n",
    "\n",
    "```\n",
    "opacity = 3.0\n",
    "density = 1408.0\n",
    "l = 1.0 / (opacity * density)\n",
    "photon_path = []\n",
    "p = photon initialized at Sun’s center\n",
    "while p position < Sun’s radius:\n",
    "\tupdate p position to the point of next interaction\n",
    "\tcalculate new p direction\n",
    "\tappend location to photon_path\n",
    "endWhile\n",
    "```\n"
   ]
  },
  {
   "cell_type": "code",
   "execution_count": null,
   "metadata": {
    "id": "tG-SjTroqK_n"
   },
   "outputs": [],
   "source": [
    "1/0\n",
    "sun_avg_density = 1408.0*SCALE # average density of the sun - kg/m^3\n",
    "l = mfp(sun_avg_density, opacity) # mean free path using average density and opacity\n",
    "p = Photon()\n",
    "N = 0 # time steps initialization\n",
    "while distance(p.history[-1]) < R:\n",
    "    if N % 100_000 == 0:\n",
    "        print_dist(N, distance(p.history[-1]))\n",
    "        print(f'Distance: {distance(p.history[-1])} MFP: {l}')\n",
    "\n",
    "#     if N % 1_000_000 == 0 and N != 0:\n",
    "#         break\n",
    "\n",
    "    N += 1\n",
    "    p.next_loc(l)\n",
    "    average_density_results[N] = distance(p.history[-1])\n",
    "    "
   ]
  },
  {
   "cell_type": "code",
   "execution_count": null,
   "metadata": {},
   "outputs": [],
   "source": [
    "try:\n",
    "    with open('average_density_model.csv', 'w') as csv_file:  \n",
    "        writer = csv.writer(csv_file)\n",
    "        for key, value in average_density_results.items():\n",
    "            writer.writerow([key, value])\n",
    "except IOError:\n",
    "    print(\"I/O error\")"
   ]
  },
  {
   "cell_type": "markdown",
   "metadata": {
    "id": "9cOa_J15VPYg"
   },
   "source": [
    "#### Plot the results\n"
   ]
  },
  {
   "cell_type": "code",
   "execution_count": null,
   "metadata": {
    "id": "6SaENrEz22w2"
   },
   "outputs": [],
   "source": [
    "1/0\n",
    "if PLOTTING:\n",
    "    plot_photon_and_sun(p, (0, 100_000), plot_sun=True)"
   ]
  },
  {
   "cell_type": "markdown",
   "metadata": {
    "id": "xaygJAZIpvFg"
   },
   "source": [
    "### Model 2: Linear Decreasing Density\n",
    "\n",
    "The linearly decreasing density model assumes a linear decrease in density from the core out to the surface of the sun.\n",
    "\n",
    "#### Pseudocode\n",
    "\n",
    "```\n",
    "opacity = 3.0\n",
    "density = [linearly decreasing values]\n",
    "photon_path = []\n",
    "p = photon initialized at Sun’s center\n",
    "while p position< Sun’s Radius\n",
    "\tupdate density value at current radius\n",
    "\tupdate l to use current density\n",
    "\tupdate p position based on l\n",
    "\tcalculate new p direction\n",
    "\tappend location to photon_path\n",
    "endWhile\n",
    "\n",
    "```\n"
   ]
  },
  {
   "cell_type": "code",
   "execution_count": null,
   "metadata": {},
   "outputs": [],
   "source": [
    "bins = 100_000\n",
    "accurate_decreasing_density = get_density(bins)"
   ]
  },
  {
   "cell_type": "code",
   "execution_count": null,
   "metadata": {
    "id": "ZQn0Voe792Xe"
   },
   "outputs": [],
   "source": [
    "p_1 = Photon()\n",
    "N = 0 # time steps initialization\n",
    "while distance(p_1.history[-1]) < R:\n",
    "        \n",
    "    if N % 100_000 == 0 and N != 0:\n",
    "        print_dist(N, distance(p_1.history[-1]))\n",
    "        print(f'Distance: {distance(p_1.history[-1])} MFP: {l}')\n",
    "    N += 1\n",
    "    # updating density based on distance from center\n",
    "    d = int(distance(p_1.history[-1]) / (R / bins))\n",
    "\n",
    "    # update l to reflect current density\n",
    "    l = mfp(accurate_decreasing_density[d], opacity)\n",
    "    \n",
    "    # update photon position based on new mean free path\n",
    "    p_1.next_loc(l)\n",
    "\n",
    "    decreasing_density_results[N] = distance(p_1.history[-1])\n"
   ]
  },
  {
   "cell_type": "code",
   "execution_count": null,
   "metadata": {},
   "outputs": [],
   "source": [
    "try:\n",
    "    with open('decreasing_density_model.csv', 'w') as csv_file:  \n",
    "        writer = csv.writer(csv_file)\n",
    "        for key, value in decreasing_density_results.items():\n",
    "            writer.writerow([key, value])\n",
    "except IOError:\n",
    "    print(\"I/O error\")"
   ]
  },
  {
   "cell_type": "markdown",
   "metadata": {
    "id": "GGqK0tJuVPYh"
   },
   "source": [
    "#### Plotting\n"
   ]
  },
  {
   "cell_type": "code",
   "execution_count": null,
   "metadata": {
    "id": "Xm_BKSlvVPYh"
   },
   "outputs": [],
   "source": [
    "1/0\n",
    "if PLOTTING:\n",
    "    plot_photon_and_sun(p_1)"
   ]
  },
  {
   "cell_type": "markdown",
   "metadata": {
    "id": "lneFHIEQp8IH"
   },
   "source": [
    "### Model 3: Discretized Density\n",
    "\n",
    "The discretized density model follows the intution of setting discrete zones in the sun with specific densities. When a photon is in a specific zone, it has a different average distance until an interaction, as compared to other zones.\n",
    "\n",
    "#### Pseudocode\n",
    "\n",
    "```\n",
    "opacity = 3.0\n",
    "density = [core, radiative, convective]\n",
    "photon_path = []\n",
    "p = photon initialized at Sun’s center\n",
    "While p position < Sun’s radius\n",
    "\tif  p in core:\n",
    "update l to use core density\n",
    "\tendIf\n",
    "\telse if p in radiative layer:\n",
    "update l to use radiative density\n",
    "\tendIf\n",
    "\telse if p in convective layer:\n",
    "update l to use convective density\n",
    "\tendIf\n",
    "\tupdate p position based on l\n",
    "\tcalculate new p direction\n",
    "append location to photon_path\n",
    "endWhile\n",
    "```\n"
   ]
  },
  {
   "cell_type": "code",
   "execution_count": null,
   "metadata": {
    "id": "mPdg8pIb4QQp"
   },
   "outputs": [],
   "source": [
    "num_radiative_sections = 100\n",
    "sun_layer_densities = {'core': 1.622e5,\n",
    "                       'radiative': np.linspace(20_000, 200, num=num_radiative_sections),\n",
    "                       'convective': 200} # values are approximate - kg/m^3\n",
    "p_2 = Photon()\n",
    "N = 0 # time steps initialization\n",
    "l = mfp(sun_layer_densities['core'], opacity) # initialize mean free path to core density\n",
    "while distance(p_2.history[-1]) < R:\n",
    "    if N % 100_000 == 0:\n",
    "        print_dist(N, distance(p_2.history[-1]))\n",
    "        print(f'Distance: {distance(p_2.history[-1])} MFP: {l}')\n",
    "    N += 1\n",
    "    d = distance(p_2.history[-1]) + l # add l to see where the photon is going\n",
    "    if d < R*0.25:\n",
    "        # use densities for Sun's core\n",
    "        density = sun_layer_densities['core']\n",
    "    elif R*0.25 < d < R*0.7:\n",
    "        # determine the size in meters of each chunk of the radiative zone\n",
    "        chunk_size = (R*0.45 / num_radiative_sections)\n",
    "        # determine how many chunks into the radiative zone the photon is\n",
    "        dist = int((d - R*0.25) / chunk_size)\n",
    "        # use densities for Sun's radiative zone at chunk index\n",
    "        density = sun_layer_densities['radiative'][dist]\n",
    "    else:\n",
    "        # use densities for Sun's convective zone\n",
    "        density = sun_layer_densities['convective']\n",
    "    \n",
    "    # update mean free path based on new density\n",
    "    l = mfp(density*SCALE, opacity)\n",
    "\n",
    "    # update photon position based on new mean free path\n",
    "    p_2.next_loc(l)\n",
    "\n",
    "    discrete_density_results[N] = distance(p_2.history[-1])"
   ]
  },
  {
   "cell_type": "code",
   "execution_count": null,
   "metadata": {},
   "outputs": [],
   "source": [
    "try:\n",
    "    with open('discrete_density_model.csv', 'w') as csv_file:  \n",
    "        writer = csv.writer(csv_file)\n",
    "        for key, value in discrete_density_results.items():\n",
    "            writer.writerow([key, value])\n",
    "except IOError:\n",
    "    print(\"I/O error\")"
   ]
  },
  {
   "cell_type": "code",
   "execution_count": null,
   "metadata": {},
   "outputs": [],
   "source": [
    "if PLOTTING:\n",
    "    plot_photon_and_sun(p_2, (0, 100000))"
   ]
  },
  {
   "cell_type": "markdown",
   "metadata": {
    "id": "RczuBGzGlc-m"
   },
   "source": [
    "# **Plotting**\n"
   ]
  },
  {
   "cell_type": "markdown",
   "metadata": {
    "id": "4wNH0SSgABnk"
   },
   "source": [
    "### **Line Graphs**\n"
   ]
  },
  {
   "cell_type": "code",
   "execution_count": null,
   "metadata": {},
   "outputs": [],
   "source": [
    "with open('average_density_model.csv') as csv_file:\n",
    "    reader = csv.reader(csv_file)\n",
    "    average_density_model = dict(reader)\n",
    "\n",
    "with open('decreasing_density_model.csv') as csv_file:\n",
    "    reader = csv.reader(csv_file)\n",
    "    decreasing_density_model = dict(reader)\n",
    "    \n",
    "# with open('discrete_density_model.csv') as csv_file:\n",
    "#     reader = csv.reader(csv_file)\n",
    "#     discrete_density_model = dict(reader)"
   ]
  },
  {
   "cell_type": "code",
   "execution_count": null,
   "metadata": {
    "id": "Mxsxa6y0_8GB"
   },
   "outputs": [],
   "source": [
    "plt.plot(average_density_model.keys(), average_density_model.values(), label=\"Average Density Model\")\n",
    "plt.plot(decreasing_density_model.keys(), decreasing_density_model.values(), label=\"Linear Decreasing Density Model\")\n",
    "# plt.plot(discrete_density_model.keys(), discrete_density_model.values(), label=\"Discrete Density Model\")\n",
    "plt.legend()\n",
    "# plt.yticks(np.arange(0, int(R), 1_000_000))\n",
    "# plt.xticks(np.arange(0, max(len(average_density_model), 0), 100))\n",
    "plt.xlabel(\"Steps\")\n",
    "plt.ylabel(\"Distance from center\")\n",
    "plt.title(\"Distance vs Time\")\n",
    "plt.show()"
   ]
  },
  {
   "cell_type": "code",
   "execution_count": null,
   "metadata": {},
   "outputs": [],
   "source": []
  }
 ],
 "metadata": {
  "colab": {
   "include_colab_link": true,
   "provenance": [],
   "toc_visible": true
  },
  "kernelspec": {
   "display_name": "Python 3 (ipykernel)",
   "language": "python",
   "name": "python3"
  },
  "language_info": {
   "codemirror_mode": {
    "name": "ipython",
    "version": 3
   },
   "file_extension": ".py",
   "mimetype": "text/x-python",
   "name": "python",
   "nbconvert_exporter": "python",
   "pygments_lexer": "ipython3",
   "version": "3.9.7"
  },
  "vscode": {
   "interpreter": {
    "hash": "17e24166ea5c41a1ae1666efd29409dbd1a406d3ae3b7063cc33cf27c9641cdd"
   }
  }
 },
 "nbformat": 4,
 "nbformat_minor": 1
}
