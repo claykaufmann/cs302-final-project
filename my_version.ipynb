{
 "cells": [
  {
   "cell_type": "code",
   "execution_count": null,
   "metadata": {},
   "outputs": [],
   "source": [
    "import numpy as np\n",
    "import pandas as pd\n",
    "import matplotlib.pyplot as plt\n",
    "import math\n",
    "import plotly.graph_objects as go\n",
    "from plotly_resampler import FigureResampler\n",
    "import plotly.io as pio\n",
    "pio.renderers\n",
    "pio.renderers.default = \"notebook_connected\"\n",
    "from mpl_toolkits import mplot3d"
   ]
  },
  {
   "cell_type": "code",
   "execution_count": null,
   "metadata": {},
   "outputs": [],
   "source": [
    "# Numbers assume hydrogen atoms\n",
    "# sources:\n",
    "# https://observatory.astro.utah.edu/sun.html\n",
    "# http://solar-center.stanford.edu/vitalstats.html\n",
    "# https://physicsanduniverse.com/random-walk-photon/\n",
    "# https://www.compadre.org/osp/items/detail.cfm?ID=11349\n",
    "\n",
    "## SOME HELPFUL FUNCTIONS ##\n",
    "def kgm3_to_cmg3(val):\n",
    "  # convert unit from kg/m^3 to cm/g^3\n",
    "  return val / 1000\n",
    "\n",
    "def mfp(density, opacity):\n",
    "  # calculate mean free path with given hydrogen atom density values and opacity\n",
    "  return 1.0 / (density * opacity)\n",
    "\n",
    "def distance_from_center(l, N):\n",
    "  # distance from starting point at current step\n",
    "\n",
    "  # !!!!!!!!!!!!!!!!!!!!!!!!!!!!!!!!!!!!!!!!!!!!!!!!!!!!!!\n",
    "  # TODO: this only gives average expected distance, not actual distance of mapped photon\n",
    "  # !!!!!!!!!!!!!!!!!!!!!!!!!!!!!!!!!!!!!!!!!!!!!!!!!!!!!!\n",
    "\n",
    "  return l * np.sqrt(N)\n",
    "\n",
    "def calc_escape_time(R, l):\n",
    "  # time it takes for photon to reach sun's surface in seconds\n",
    "  return np.square(R) / (mfp * C)\n",
    "\n",
    "def seconds_to_years(secs):\n",
    "  # convert seconds to years\n",
    "  return int(secs/31_556_952)\n",
    "\n",
    "def distance(coordinates):\n",
    "  x, y, z = coordinates\n",
    "  return np.sqrt(x**2 + y**2 + z**2)\n",
    "\n",
    "def time_to_run():\n",
    "  rad = (R * SCALE) / 1000\n",
    "  time_in_secs = rad * 0.014275893554076538\n",
    "  return time_in_secs\n",
    "\n",
    "def get_accurate_density():\n",
    "  # source: https://spacemath.gsfc.nasa.gov/Calculus/6Page102.pdf\n",
    "  def run_eq(x):\n",
    "    # calculate density at distance from center in percentage of total distance\n",
    "    g_cm3 = 519.0*(x**4) - 1630.0*(x**3) + 1844.0*(x**2) - 889.0*x + 155.0\n",
    "    return g_cm3 * 1000 # convert from g/cm3 to kg/m3\n",
    "  return [run_eq(i / (R*SCALE)) for i in range(int(R*SCALE))]\n",
    "\n",
    "\n",
    "### CONSTANTS ###\n",
    "\n",
    "# DENSITY VALUES TO BE USED IN TESTING\n",
    "sun_layer_densities = {'core': 1.622e5,\n",
    "                       'radiative': [20_000, 200],\n",
    "                       'convective': 200} # values are approximate - kg/m^3\n",
    "linearly_decreasing_density = np.linspace(1.622e5, 200, num=int(7.0e8))\n",
    "sun_avg_density = 1408.0 # average density of the sun - kg/m^3\n",
    "\n",
    "C = 3.0e8 # speed of light m/s\n",
    "opacity = 3.0 # opacity m^2/kg\n",
    "l = mfp(sun_avg_density, opacity) # mean free path\n",
    "R = 7.0e8 # sun's radius in meters\n",
    "SCALE = 1/10_000_000 # scale the sun so that the simulation actually runs\n",
    "N = 0 # current step\n",
    "\n",
    "\n",
    "time_to_run()"
   ]
  },
  {
   "cell_type": "code",
   "execution_count": null,
   "metadata": {},
   "outputs": [],
   "source": [
    "class Photon:\n",
    "    \"\"\"\n",
    "    a single photon in space\n",
    "    \"\"\"\n",
    "\n",
    "    # def __init__(self, total_iterations, sun_radius) -> None:\n",
    "    def __init__(self) -> None:\n",
    "        # create \n",
    "        # gen random location to start\n",
    "        # TODO: Change to random location instead of 0\n",
    "\n",
    "        self.history = [[0, 0, 0]]\n",
    "\n",
    "    def next_distance(self, function):\n",
    "        \"\"\"\n",
    "        calculate the next distance for the photon to travel before an interaction\n",
    "\n",
    "        Parameters\n",
    "        ----------\n",
    "        self: the photon class\n",
    "        function: the modeling function that calculates the distance\n",
    "        \"\"\"\n",
    "        res = function()\n",
    "\n",
    "        return res\n",
    "\n",
    "    def next_loc(self, distance):\n",
    "        \"\"\"\n",
    "        get the next photon location\n",
    "\n",
    "        Parameters\n",
    "        ----------\n",
    "        self: self\n",
    "        distance: float, representing the radius of the sphere for possible next location\n",
    "        \"\"\"\n",
    "        # coord system, need a z and a phi\n",
    "\n",
    "        # this is the axis from south to north pole, use the distance radius for this\n",
    "        z = np.random.uniform(distance * -1, distance)\n",
    "\n",
    "        # phi is the angle, which is the \"longitude\"\n",
    "        phi = np.random.uniform(0, 1) * 2 * np.pi\n",
    "\n",
    "        # calculate the theta\n",
    "        theta = phi * 2 * np.pi\n",
    "\n",
    "        # gen points\n",
    "        x = distance * np.cos(theta) * np.cos(phi)\n",
    "        y = distance * np.cos(theta) * np.sin(phi)\n",
    "        \n",
    "        # update tracking location\n",
    "        # take previous iteration, append values\n",
    "        final_x = self.history[-1][0] + x\n",
    "        final_y = self.history[-1][1] + y\n",
    "        final_z = self.history[-1][2] + z\n",
    "\n",
    "        self.history.append([final_x, final_y, final_z])\n"
   ]
  },
  {
   "cell_type": "code",
   "execution_count": null,
   "metadata": {},
   "outputs": [],
   "source": [
    "def create_sun(size, clr, dist=0, opacity=1): \n",
    "    \n",
    "    # Set up 100 points. First, do angles\n",
    "    theta = np.linspace(0,2*np.pi,100)\n",
    "    phi = np.linspace(0,np.pi,100)\n",
    "    \n",
    "    # Set up coordinates for points on the sphere\n",
    "    x0 = dist + size * np.outer(np.cos(theta),np.sin(phi))\n",
    "    y0 = size * np.outer(np.sin(theta),np.sin(phi))\n",
    "    z0 = size * np.outer(np.ones(100),np.cos(phi))\n",
    "    \n",
    "    # Set up trace\n",
    "    trace = go.Surface(x=x0, y=y0, z=z0, colorscale=[[0,clr], [1,clr]], opacity=opacity)\n",
    "    trace.update(showscale=False)\n",
    "\n",
    "    return trace\n",
    "\n",
    "def create_photon(x, y, z, clr='white', wdth=2):\n",
    "    trace = go.Scatter3d(x=x, y=y, z=z, line=dict(color=clr, width=wdth), marker=dict(size=0.1))\n",
    "\n",
    "    return trace\n",
    "\n",
    "def plot_photon_and_sun(photon: Photon, cut_down_size):\n",
    "    photon_track = np.array(photon.history)\n",
    "\n",
    "    fig = FigureResampler(go.Figure())\n",
    "\n",
    "    sun = create_sun(R * SCALE, '#ffff00', 0, 0.2) # Sun\n",
    "\n",
    "    # for photons, we will use scatter3d\n",
    "    photon = create_photon(photon_track[:,0], photon_track[:,1], photon_track[:,2], clr='red')\n",
    "\n",
    "    # fig = go.Figure(data = [sun, photon])\n",
    "    fig.add_trace(sun)\n",
    "    fig.add_trace(photon)\n",
    "\n",
    "    fig.show_dash(mode='inline')\n",
    "\n",
    "def pyplot_photon_path(photon):\n",
    "    photon_track = np.array(photon.history)\n",
    "    fig = plt.figure()\n",
    "    ax = plt.axes(projection='3d')\n",
    "    ax = plt.axes(projection='3d')\n",
    "    ax.scatter3D(photon_track[:,0], photon_track[:,1], photon_track[:,2])\n",
    "\n",
    "    plt.show()\n"
   ]
  },
  {
   "cell_type": "markdown",
   "metadata": {},
   "source": [
    "## Model # 1\n",
    "\n",
    "Average density model."
   ]
  },
  {
   "cell_type": "code",
   "execution_count": null,
   "metadata": {},
   "outputs": [],
   "source": [
    "l = mfp(sun_avg_density, opacity) # mean free path using average density and opacity\n",
    "p = Photon()\n",
    "N = 0\n",
    "dist = []\n",
    "while distance(p.history[-1]) < R*SCALE:\n",
    "  N += 1\n",
    "  if N % 1000 == 0:\n",
    "    if N % 1000000 == 0:\n",
    "      # plt.plot(dist)\n",
    "      # plt.show()\n",
    "      break\n",
    "    # dist.append(distance(p.history[-1]))\n",
    "    # print(f'N={N}: {distance(p.history[-1])}')\n",
    "  p.next_loc(l)"
   ]
  },
  {
   "cell_type": "markdown",
   "metadata": {},
   "source": [
    "### Plot Model # 1"
   ]
  },
  {
   "cell_type": "code",
   "execution_count": null,
   "metadata": {},
   "outputs": [],
   "source": [
    "plot_photon_and_sun(p, 10)"
   ]
  },
  {
   "cell_type": "markdown",
   "metadata": {},
   "source": [
    "## Linearly Decreasing Density"
   ]
  },
  {
   "cell_type": "code",
   "execution_count": null,
   "metadata": {},
   "outputs": [],
   "source": [
    "accurate_decreasing_density = get_accurate_density()\n",
    "p_1 = Photon()\n",
    "N = 0 # time steps initialization\n",
    "while distance(p_1.history[-1]) < R*SCALE:\n",
    "  N += 1\n",
    "  # updating density based on distance from center\n",
    "  d = int(distance(p_1.history[-1]))\n",
    "  if N % 10000000 == 0:\n",
    "      # plt.plot(dist)\n",
    "      # plt.show()\n",
    "      break\n",
    "\n",
    "  # update l to reflect current density\n",
    "  l = mfp(accurate_decreasing_density[d], opacity)\n",
    "\n",
    "  # update photon position based on new mean free path\n",
    "  p_1.next_loc(l)"
   ]
  },
  {
   "cell_type": "markdown",
   "metadata": {},
   "source": [
    "### Plot Model # 2"
   ]
  },
  {
   "cell_type": "code",
   "execution_count": null,
   "metadata": {},
   "outputs": [],
   "source": [
    "pyplot_photon_path(p_1)\n"
   ]
  },
  {
   "cell_type": "code",
   "execution_count": null,
   "metadata": {},
   "outputs": [],
   "source": [
    "plot_photon_and_sun(p_1, 10)"
   ]
  }
 ],
 "metadata": {
  "kernelspec": {
   "display_name": "Python 3.10.8 ('cs302')",
   "language": "python",
   "name": "python3"
  },
  "language_info": {
   "codemirror_mode": {
    "name": "ipython",
    "version": 3
   },
   "file_extension": ".py",
   "mimetype": "text/x-python",
   "name": "python",
   "nbconvert_exporter": "python",
   "pygments_lexer": "ipython3",
   "version": "3.10.8"
  },
  "orig_nbformat": 4,
  "vscode": {
   "interpreter": {
    "hash": "17e24166ea5c41a1ae1666efd29409dbd1a406d3ae3b7063cc33cf27c9641cdd"
   }
  }
 },
 "nbformat": 4,
 "nbformat_minor": 2
}
